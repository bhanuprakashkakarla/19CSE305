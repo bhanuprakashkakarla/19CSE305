{
 "cells": [
  {
   "cell_type": "code",
   "execution_count": 2,
   "id": "b9a1dfe5-bd4b-4c1e-adf7-c809ee1f19fd",
   "metadata": {},
   "outputs": [],
   "source": [
    "#Kakarla Bhanu Prakash\n",
    "#BL.EN.U4CSE21081"
   ]
  },
  {
   "cell_type": "code",
   "execution_count": 2,
   "id": "d7b05ee6",
   "metadata": {
    "colab": {
     "base_uri": "https://localhost:8080/",
     "height": 302
    },
    "id": "d7b05ee6",
    "outputId": "74f24a68-5ac7-409a-890c-902eb4a54380"
   },
   "outputs": [
    {
     "data": {
      "text/html": [
       "<div>\n",
       "<style scoped>\n",
       "    .dataframe tbody tr th:only-of-type {\n",
       "        vertical-align: middle;\n",
       "    }\n",
       "\n",
       "    .dataframe tbody tr th {\n",
       "        vertical-align: top;\n",
       "    }\n",
       "\n",
       "    .dataframe thead th {\n",
       "        text-align: right;\n",
       "    }\n",
       "</style>\n",
       "<table border=\"1\" class=\"dataframe\">\n",
       "  <thead>\n",
       "    <tr style=\"text-align: right;\">\n",
       "      <th></th>\n",
       "      <th>Transaction ID</th>\n",
       "      <th>Date</th>\n",
       "      <th>Day of Week</th>\n",
       "      <th>Time</th>\n",
       "      <th>Type of Card</th>\n",
       "      <th>Entry Mode</th>\n",
       "      <th>Amount</th>\n",
       "      <th>Type of Transaction</th>\n",
       "      <th>Merchant Group</th>\n",
       "      <th>Country of Transaction</th>\n",
       "      <th>Shipping Address</th>\n",
       "      <th>Country of Residence</th>\n",
       "      <th>Gender</th>\n",
       "      <th>Age</th>\n",
       "      <th>Bank</th>\n",
       "      <th>Fraud</th>\n",
       "    </tr>\n",
       "  </thead>\n",
       "  <tbody>\n",
       "    <tr>\n",
       "      <th>0</th>\n",
       "      <td>#3577 209</td>\n",
       "      <td>14-Oct-20</td>\n",
       "      <td>Wednesday</td>\n",
       "      <td>19</td>\n",
       "      <td>Visa</td>\n",
       "      <td>Tap</td>\n",
       "      <td>£5</td>\n",
       "      <td>POS</td>\n",
       "      <td>Entertainment</td>\n",
       "      <td>United Kingdom</td>\n",
       "      <td>United Kingdom</td>\n",
       "      <td>United Kingdom</td>\n",
       "      <td>M</td>\n",
       "      <td>25.2</td>\n",
       "      <td>RBS</td>\n",
       "      <td>0</td>\n",
       "    </tr>\n",
       "    <tr>\n",
       "      <th>1</th>\n",
       "      <td>#3039 221</td>\n",
       "      <td>14-Oct-20</td>\n",
       "      <td>Wednesday</td>\n",
       "      <td>17</td>\n",
       "      <td>MasterCard</td>\n",
       "      <td>PIN</td>\n",
       "      <td>£288</td>\n",
       "      <td>POS</td>\n",
       "      <td>Services</td>\n",
       "      <td>USA</td>\n",
       "      <td>USA</td>\n",
       "      <td>USA</td>\n",
       "      <td>F</td>\n",
       "      <td>49.6</td>\n",
       "      <td>Lloyds</td>\n",
       "      <td>0</td>\n",
       "    </tr>\n",
       "    <tr>\n",
       "      <th>2</th>\n",
       "      <td>#2694 780</td>\n",
       "      <td>14-Oct-20</td>\n",
       "      <td>Wednesday</td>\n",
       "      <td>14</td>\n",
       "      <td>Visa</td>\n",
       "      <td>Tap</td>\n",
       "      <td>£5</td>\n",
       "      <td>POS</td>\n",
       "      <td>Restaurant</td>\n",
       "      <td>India</td>\n",
       "      <td>India</td>\n",
       "      <td>India</td>\n",
       "      <td>F</td>\n",
       "      <td>42.2</td>\n",
       "      <td>Barclays</td>\n",
       "      <td>0</td>\n",
       "    </tr>\n",
       "  </tbody>\n",
       "</table>\n",
       "</div>"
      ],
      "text/plain": [
       "  Transaction ID       Date Day of Week  Time Type of Card Entry Mode Amount  \\\n",
       "0      #3577 209  14-Oct-20   Wednesday    19         Visa        Tap     £5   \n",
       "1      #3039 221  14-Oct-20   Wednesday    17   MasterCard        PIN   £288   \n",
       "2      #2694 780  14-Oct-20   Wednesday    14         Visa        Tap     £5   \n",
       "\n",
       "  Type of Transaction Merchant Group Country of Transaction Shipping Address  \\\n",
       "0                 POS  Entertainment         United Kingdom   United Kingdom   \n",
       "1                 POS       Services                    USA              USA   \n",
       "2                 POS     Restaurant                  India            India   \n",
       "\n",
       "  Country of Residence Gender   Age      Bank  Fraud  \n",
       "0       United Kingdom      M  25.2       RBS      0  \n",
       "1                  USA      F  49.6    Lloyds      0  \n",
       "2                India      F  42.2  Barclays      0  "
      ]
     },
     "execution_count": 2,
     "metadata": {},
     "output_type": "execute_result"
    }
   ],
   "source": [
    "import pandas as pd\n",
    "import numpy as np\n",
    "df=pd.read_csv(\"CreditCardData.csv\")\n",
    "df.head(3)"
   ]
  },
  {
   "cell_type": "code",
   "execution_count": 3,
   "id": "hSK4j2lERzwR",
   "metadata": {
    "id": "hSK4j2lERzwR"
   },
   "outputs": [],
   "source": [
    "# Convert Amount into integet\n",
    "df['Amount'] = df['Amount'].str.replace('£', '').str.replace(',', '').astype(float)"
   ]
  },
  {
   "cell_type": "code",
   "execution_count": 4,
   "id": "LjPSqkRKSk-c",
   "metadata": {
    "id": "LjPSqkRKSk-c"
   },
   "outputs": [],
   "source": [
    "# Covvert Transcation ID into interger\n",
    "df['Transaction ID'] = df['Transaction ID'].str.replace('#', '').str.replace(' ', '').astype(int)"
   ]
  },
  {
   "cell_type": "code",
   "execution_count": 5,
   "id": "WYZ2XJbPTcki",
   "metadata": {
    "id": "WYZ2XJbPTcki"
   },
   "outputs": [
    {
     "name": "stderr",
     "output_type": "stream",
     "text": [
      "C:\\Users\\krp95\\AppData\\Local\\Temp\\ipykernel_22172\\1000032384.py:2: UserWarning: Could not infer format, so each element will be parsed individually, falling back to `dateutil`. To ensure parsing is consistent and as-expected, please specify a format.\n",
      "  df['Date'] = pd.to_datetime(df['Date']).dt.strftime('%Y%m%d').astype(int)\n"
     ]
    }
   ],
   "source": [
    "# Covvert Transcation ID into interger\n",
    "df['Date'] = pd.to_datetime(df['Date']).dt.strftime('%Y%m%d').astype(int)"
   ]
  },
  {
   "cell_type": "code",
   "execution_count": 6,
   "id": "YL6GwnZHRzWl",
   "metadata": {
    "colab": {
     "base_uri": "https://localhost:8080/",
     "height": 215
    },
    "id": "YL6GwnZHRzWl",
    "outputId": "59b46a8c-ef05-44a8-ef0d-c4d6b1ae9c66"
   },
   "outputs": [
    {
     "data": {
      "text/html": [
       "<div>\n",
       "<style scoped>\n",
       "    .dataframe tbody tr th:only-of-type {\n",
       "        vertical-align: middle;\n",
       "    }\n",
       "\n",
       "    .dataframe tbody tr th {\n",
       "        vertical-align: top;\n",
       "    }\n",
       "\n",
       "    .dataframe thead th {\n",
       "        text-align: right;\n",
       "    }\n",
       "</style>\n",
       "<table border=\"1\" class=\"dataframe\">\n",
       "  <thead>\n",
       "    <tr style=\"text-align: right;\">\n",
       "      <th></th>\n",
       "      <th>Transaction ID</th>\n",
       "      <th>Date</th>\n",
       "      <th>Day of Week</th>\n",
       "      <th>Time</th>\n",
       "      <th>Type of Card</th>\n",
       "      <th>Entry Mode</th>\n",
       "      <th>Amount</th>\n",
       "      <th>Type of Transaction</th>\n",
       "      <th>Merchant Group</th>\n",
       "      <th>Country of Transaction</th>\n",
       "      <th>Shipping Address</th>\n",
       "      <th>Country of Residence</th>\n",
       "      <th>Gender</th>\n",
       "      <th>Age</th>\n",
       "      <th>Bank</th>\n",
       "      <th>Fraud</th>\n",
       "    </tr>\n",
       "  </thead>\n",
       "  <tbody>\n",
       "    <tr>\n",
       "      <th>0</th>\n",
       "      <td>3577209</td>\n",
       "      <td>20201014</td>\n",
       "      <td>Wednesday</td>\n",
       "      <td>19</td>\n",
       "      <td>Visa</td>\n",
       "      <td>Tap</td>\n",
       "      <td>5.0</td>\n",
       "      <td>POS</td>\n",
       "      <td>Entertainment</td>\n",
       "      <td>United Kingdom</td>\n",
       "      <td>United Kingdom</td>\n",
       "      <td>United Kingdom</td>\n",
       "      <td>M</td>\n",
       "      <td>25.2</td>\n",
       "      <td>RBS</td>\n",
       "      <td>0</td>\n",
       "    </tr>\n",
       "    <tr>\n",
       "      <th>1</th>\n",
       "      <td>3039221</td>\n",
       "      <td>20201014</td>\n",
       "      <td>Wednesday</td>\n",
       "      <td>17</td>\n",
       "      <td>MasterCard</td>\n",
       "      <td>PIN</td>\n",
       "      <td>288.0</td>\n",
       "      <td>POS</td>\n",
       "      <td>Services</td>\n",
       "      <td>USA</td>\n",
       "      <td>USA</td>\n",
       "      <td>USA</td>\n",
       "      <td>F</td>\n",
       "      <td>49.6</td>\n",
       "      <td>Lloyds</td>\n",
       "      <td>0</td>\n",
       "    </tr>\n",
       "    <tr>\n",
       "      <th>2</th>\n",
       "      <td>2694780</td>\n",
       "      <td>20201014</td>\n",
       "      <td>Wednesday</td>\n",
       "      <td>14</td>\n",
       "      <td>Visa</td>\n",
       "      <td>Tap</td>\n",
       "      <td>5.0</td>\n",
       "      <td>POS</td>\n",
       "      <td>Restaurant</td>\n",
       "      <td>India</td>\n",
       "      <td>India</td>\n",
       "      <td>India</td>\n",
       "      <td>F</td>\n",
       "      <td>42.2</td>\n",
       "      <td>Barclays</td>\n",
       "      <td>0</td>\n",
       "    </tr>\n",
       "  </tbody>\n",
       "</table>\n",
       "</div>"
      ],
      "text/plain": [
       "   Transaction ID      Date Day of Week  Time Type of Card Entry Mode  Amount  \\\n",
       "0         3577209  20201014   Wednesday    19         Visa        Tap     5.0   \n",
       "1         3039221  20201014   Wednesday    17   MasterCard        PIN   288.0   \n",
       "2         2694780  20201014   Wednesday    14         Visa        Tap     5.0   \n",
       "\n",
       "  Type of Transaction Merchant Group Country of Transaction Shipping Address  \\\n",
       "0                 POS  Entertainment         United Kingdom   United Kingdom   \n",
       "1                 POS       Services                    USA              USA   \n",
       "2                 POS     Restaurant                  India            India   \n",
       "\n",
       "  Country of Residence Gender   Age      Bank  Fraud  \n",
       "0       United Kingdom      M  25.2       RBS      0  \n",
       "1                  USA      F  49.6    Lloyds      0  \n",
       "2                India      F  42.2  Barclays      0  "
      ]
     },
     "execution_count": 6,
     "metadata": {},
     "output_type": "execute_result"
    }
   ],
   "source": [
    "df.head(3)"
   ]
  },
  {
   "cell_type": "code",
   "execution_count": 11,
   "id": "d832b576",
   "metadata": {
    "id": "d832b576"
   },
   "outputs": [],
   "source": [
    "data = pd.get_dummies(df, columns=[\"Day of Week\", \"Type of Card\", \"Entry Mode\", \"Type of Transaction\",\n",
    "                                \"Merchant Group\", \"Country of Transaction\", \"Shipping Address\",\n",
    "                                \"Country of Residence\", \"Bank\", \"Gender\"])\n",
    "data[\"target\"]=df[\"Fraud\"]"
   ]
  },
  {
   "cell_type": "code",
   "execution_count": 12,
   "id": "ed0eOg98Rgj3",
   "metadata": {
    "colab": {
     "base_uri": "https://localhost:8080/",
     "height": 210
    },
    "id": "ed0eOg98Rgj3",
    "outputId": "5ce2638f-ff58-4ad6-c52f-68e3c24c2095"
   },
   "outputs": [
    {
     "data": {
      "text/html": [
       "<div>\n",
       "<style scoped>\n",
       "    .dataframe tbody tr th:only-of-type {\n",
       "        vertical-align: middle;\n",
       "    }\n",
       "\n",
       "    .dataframe tbody tr th {\n",
       "        vertical-align: top;\n",
       "    }\n",
       "\n",
       "    .dataframe thead th {\n",
       "        text-align: right;\n",
       "    }\n",
       "</style>\n",
       "<table border=\"1\" class=\"dataframe\">\n",
       "  <thead>\n",
       "    <tr style=\"text-align: right;\">\n",
       "      <th></th>\n",
       "      <th>Transaction ID</th>\n",
       "      <th>Date</th>\n",
       "      <th>Time</th>\n",
       "      <th>Amount</th>\n",
       "      <th>Age</th>\n",
       "      <th>Fraud</th>\n",
       "      <th>Day of Week_Friday</th>\n",
       "      <th>Day of Week_Thursday</th>\n",
       "      <th>Day of Week_Tuesday</th>\n",
       "      <th>Day of Week_Wednesday</th>\n",
       "      <th>...</th>\n",
       "      <th>Bank_Barlcays</th>\n",
       "      <th>Bank_HSBC</th>\n",
       "      <th>Bank_Halifax</th>\n",
       "      <th>Bank_Lloyds</th>\n",
       "      <th>Bank_Metro</th>\n",
       "      <th>Bank_Monzo</th>\n",
       "      <th>Bank_RBS</th>\n",
       "      <th>Gender_F</th>\n",
       "      <th>Gender_M</th>\n",
       "      <th>target</th>\n",
       "    </tr>\n",
       "  </thead>\n",
       "  <tbody>\n",
       "    <tr>\n",
       "      <th>0</th>\n",
       "      <td>3577209</td>\n",
       "      <td>20201014</td>\n",
       "      <td>19</td>\n",
       "      <td>5.0</td>\n",
       "      <td>25.2</td>\n",
       "      <td>0</td>\n",
       "      <td>False</td>\n",
       "      <td>False</td>\n",
       "      <td>False</td>\n",
       "      <td>True</td>\n",
       "      <td>...</td>\n",
       "      <td>False</td>\n",
       "      <td>False</td>\n",
       "      <td>False</td>\n",
       "      <td>False</td>\n",
       "      <td>False</td>\n",
       "      <td>False</td>\n",
       "      <td>True</td>\n",
       "      <td>False</td>\n",
       "      <td>True</td>\n",
       "      <td>0</td>\n",
       "    </tr>\n",
       "    <tr>\n",
       "      <th>1</th>\n",
       "      <td>3039221</td>\n",
       "      <td>20201014</td>\n",
       "      <td>17</td>\n",
       "      <td>288.0</td>\n",
       "      <td>49.6</td>\n",
       "      <td>0</td>\n",
       "      <td>False</td>\n",
       "      <td>False</td>\n",
       "      <td>False</td>\n",
       "      <td>True</td>\n",
       "      <td>...</td>\n",
       "      <td>False</td>\n",
       "      <td>False</td>\n",
       "      <td>False</td>\n",
       "      <td>True</td>\n",
       "      <td>False</td>\n",
       "      <td>False</td>\n",
       "      <td>False</td>\n",
       "      <td>True</td>\n",
       "      <td>False</td>\n",
       "      <td>0</td>\n",
       "    </tr>\n",
       "    <tr>\n",
       "      <th>2</th>\n",
       "      <td>2694780</td>\n",
       "      <td>20201014</td>\n",
       "      <td>14</td>\n",
       "      <td>5.0</td>\n",
       "      <td>42.2</td>\n",
       "      <td>0</td>\n",
       "      <td>False</td>\n",
       "      <td>False</td>\n",
       "      <td>False</td>\n",
       "      <td>True</td>\n",
       "      <td>...</td>\n",
       "      <td>False</td>\n",
       "      <td>False</td>\n",
       "      <td>False</td>\n",
       "      <td>False</td>\n",
       "      <td>False</td>\n",
       "      <td>False</td>\n",
       "      <td>False</td>\n",
       "      <td>True</td>\n",
       "      <td>False</td>\n",
       "      <td>0</td>\n",
       "    </tr>\n",
       "  </tbody>\n",
       "</table>\n",
       "<p>3 rows × 54 columns</p>\n",
       "</div>"
      ],
      "text/plain": [
       "   Transaction ID      Date  Time  Amount   Age  Fraud  Day of Week_Friday  \\\n",
       "0         3577209  20201014    19     5.0  25.2      0               False   \n",
       "1         3039221  20201014    17   288.0  49.6      0               False   \n",
       "2         2694780  20201014    14     5.0  42.2      0               False   \n",
       "\n",
       "   Day of Week_Thursday  Day of Week_Tuesday  Day of Week_Wednesday  ...  \\\n",
       "0                 False                False                   True  ...   \n",
       "1                 False                False                   True  ...   \n",
       "2                 False                False                   True  ...   \n",
       "\n",
       "   Bank_Barlcays  Bank_HSBC  Bank_Halifax  Bank_Lloyds  Bank_Metro  \\\n",
       "0          False      False         False        False       False   \n",
       "1          False      False         False         True       False   \n",
       "2          False      False         False        False       False   \n",
       "\n",
       "   Bank_Monzo  Bank_RBS  Gender_F  Gender_M  target  \n",
       "0       False      True     False      True       0  \n",
       "1       False     False      True     False       0  \n",
       "2       False     False      True     False       0  \n",
       "\n",
       "[3 rows x 54 columns]"
      ]
     },
     "execution_count": 12,
     "metadata": {},
     "output_type": "execute_result"
    }
   ],
   "source": [
    "# New  DataSet\n",
    "data.head(3)"
   ]
  },
  {
   "cell_type": "code",
   "execution_count": 13,
   "id": "tK_7DDocUYaP",
   "metadata": {
    "colab": {
     "base_uri": "https://localhost:8080/"
    },
    "id": "tK_7DDocUYaP",
    "outputId": "b1048d03-ffa0-4e7b-d1ea-f0d03d0b5af7"
   },
   "outputs": [
    {
     "data": {
      "text/plain": [
       "(100000, 54)"
      ]
     },
     "execution_count": 13,
     "metadata": {},
     "output_type": "execute_result"
    }
   ],
   "source": [
    "data['Age'] = data['Age'].astype(int)\n",
    "data['Amount'] = data['Amount'].fillna(0).astype('int64')\n",
    "\n",
    "data.shape"
   ]
  },
  {
   "cell_type": "code",
   "execution_count": 14,
   "id": "ygcxYSaDVbQa",
   "metadata": {
    "colab": {
     "base_uri": "https://localhost:8080/",
     "height": 273
    },
    "id": "ygcxYSaDVbQa",
    "outputId": "27cea997-0c44-449f-ae41-e74165996218"
   },
   "outputs": [
    {
     "data": {
      "text/html": [
       "<div>\n",
       "<style scoped>\n",
       "    .dataframe tbody tr th:only-of-type {\n",
       "        vertical-align: middle;\n",
       "    }\n",
       "\n",
       "    .dataframe tbody tr th {\n",
       "        vertical-align: top;\n",
       "    }\n",
       "\n",
       "    .dataframe thead th {\n",
       "        text-align: right;\n",
       "    }\n",
       "</style>\n",
       "<table border=\"1\" class=\"dataframe\">\n",
       "  <thead>\n",
       "    <tr style=\"text-align: right;\">\n",
       "      <th></th>\n",
       "      <th>Transaction ID</th>\n",
       "      <th>Date</th>\n",
       "      <th>Time</th>\n",
       "      <th>Amount</th>\n",
       "      <th>Age</th>\n",
       "      <th>Fraud</th>\n",
       "      <th>Day of Week_Friday</th>\n",
       "      <th>Day of Week_Thursday</th>\n",
       "      <th>Day of Week_Tuesday</th>\n",
       "      <th>Day of Week_Wednesday</th>\n",
       "      <th>...</th>\n",
       "      <th>Bank_Barlcays</th>\n",
       "      <th>Bank_HSBC</th>\n",
       "      <th>Bank_Halifax</th>\n",
       "      <th>Bank_Lloyds</th>\n",
       "      <th>Bank_Metro</th>\n",
       "      <th>Bank_Monzo</th>\n",
       "      <th>Bank_RBS</th>\n",
       "      <th>Gender_F</th>\n",
       "      <th>Gender_M</th>\n",
       "      <th>target</th>\n",
       "    </tr>\n",
       "  </thead>\n",
       "  <tbody>\n",
       "    <tr>\n",
       "      <th>0</th>\n",
       "      <td>3577209</td>\n",
       "      <td>20201014</td>\n",
       "      <td>19</td>\n",
       "      <td>5</td>\n",
       "      <td>25</td>\n",
       "      <td>0</td>\n",
       "      <td>False</td>\n",
       "      <td>False</td>\n",
       "      <td>False</td>\n",
       "      <td>True</td>\n",
       "      <td>...</td>\n",
       "      <td>False</td>\n",
       "      <td>False</td>\n",
       "      <td>False</td>\n",
       "      <td>False</td>\n",
       "      <td>False</td>\n",
       "      <td>False</td>\n",
       "      <td>True</td>\n",
       "      <td>False</td>\n",
       "      <td>True</td>\n",
       "      <td>0</td>\n",
       "    </tr>\n",
       "    <tr>\n",
       "      <th>1</th>\n",
       "      <td>3039221</td>\n",
       "      <td>20201014</td>\n",
       "      <td>17</td>\n",
       "      <td>288</td>\n",
       "      <td>49</td>\n",
       "      <td>0</td>\n",
       "      <td>False</td>\n",
       "      <td>False</td>\n",
       "      <td>False</td>\n",
       "      <td>True</td>\n",
       "      <td>...</td>\n",
       "      <td>False</td>\n",
       "      <td>False</td>\n",
       "      <td>False</td>\n",
       "      <td>True</td>\n",
       "      <td>False</td>\n",
       "      <td>False</td>\n",
       "      <td>False</td>\n",
       "      <td>True</td>\n",
       "      <td>False</td>\n",
       "      <td>0</td>\n",
       "    </tr>\n",
       "    <tr>\n",
       "      <th>2</th>\n",
       "      <td>2694780</td>\n",
       "      <td>20201014</td>\n",
       "      <td>14</td>\n",
       "      <td>5</td>\n",
       "      <td>42</td>\n",
       "      <td>0</td>\n",
       "      <td>False</td>\n",
       "      <td>False</td>\n",
       "      <td>False</td>\n",
       "      <td>True</td>\n",
       "      <td>...</td>\n",
       "      <td>False</td>\n",
       "      <td>False</td>\n",
       "      <td>False</td>\n",
       "      <td>False</td>\n",
       "      <td>False</td>\n",
       "      <td>False</td>\n",
       "      <td>False</td>\n",
       "      <td>True</td>\n",
       "      <td>False</td>\n",
       "      <td>0</td>\n",
       "    </tr>\n",
       "    <tr>\n",
       "      <th>3</th>\n",
       "      <td>2640960</td>\n",
       "      <td>20201013</td>\n",
       "      <td>14</td>\n",
       "      <td>28</td>\n",
       "      <td>51</td>\n",
       "      <td>0</td>\n",
       "      <td>False</td>\n",
       "      <td>False</td>\n",
       "      <td>True</td>\n",
       "      <td>False</td>\n",
       "      <td>...</td>\n",
       "      <td>False</td>\n",
       "      <td>False</td>\n",
       "      <td>False</td>\n",
       "      <td>False</td>\n",
       "      <td>False</td>\n",
       "      <td>False</td>\n",
       "      <td>False</td>\n",
       "      <td>True</td>\n",
       "      <td>False</td>\n",
       "      <td>0</td>\n",
       "    </tr>\n",
       "    <tr>\n",
       "      <th>4</th>\n",
       "      <td>2771031</td>\n",
       "      <td>20201013</td>\n",
       "      <td>23</td>\n",
       "      <td>91</td>\n",
       "      <td>38</td>\n",
       "      <td>1</td>\n",
       "      <td>False</td>\n",
       "      <td>False</td>\n",
       "      <td>True</td>\n",
       "      <td>False</td>\n",
       "      <td>...</td>\n",
       "      <td>False</td>\n",
       "      <td>False</td>\n",
       "      <td>True</td>\n",
       "      <td>False</td>\n",
       "      <td>False</td>\n",
       "      <td>False</td>\n",
       "      <td>False</td>\n",
       "      <td>False</td>\n",
       "      <td>True</td>\n",
       "      <td>1</td>\n",
       "    </tr>\n",
       "  </tbody>\n",
       "</table>\n",
       "<p>5 rows × 54 columns</p>\n",
       "</div>"
      ],
      "text/plain": [
       "   Transaction ID      Date  Time  Amount  Age  Fraud  Day of Week_Friday  \\\n",
       "0         3577209  20201014    19       5   25      0               False   \n",
       "1         3039221  20201014    17     288   49      0               False   \n",
       "2         2694780  20201014    14       5   42      0               False   \n",
       "3         2640960  20201013    14      28   51      0               False   \n",
       "4         2771031  20201013    23      91   38      1               False   \n",
       "\n",
       "   Day of Week_Thursday  Day of Week_Tuesday  Day of Week_Wednesday  ...  \\\n",
       "0                 False                False                   True  ...   \n",
       "1                 False                False                   True  ...   \n",
       "2                 False                False                   True  ...   \n",
       "3                 False                 True                  False  ...   \n",
       "4                 False                 True                  False  ...   \n",
       "\n",
       "   Bank_Barlcays  Bank_HSBC  Bank_Halifax  Bank_Lloyds  Bank_Metro  \\\n",
       "0          False      False         False        False       False   \n",
       "1          False      False         False         True       False   \n",
       "2          False      False         False        False       False   \n",
       "3          False      False         False        False       False   \n",
       "4          False      False          True        False       False   \n",
       "\n",
       "   Bank_Monzo  Bank_RBS  Gender_F  Gender_M  target  \n",
       "0       False      True     False      True       0  \n",
       "1       False     False      True     False       0  \n",
       "2       False     False      True     False       0  \n",
       "3       False     False      True     False       0  \n",
       "4       False     False     False      True       1  \n",
       "\n",
       "[5 rows x 54 columns]"
      ]
     },
     "execution_count": 14,
     "metadata": {},
     "output_type": "execute_result"
    }
   ],
   "source": [
    "data.head()"
   ]
  },
  {
   "cell_type": "code",
   "execution_count": 15,
   "id": "Jx5iHPBPN5Xm",
   "metadata": {
    "colab": {
     "base_uri": "https://localhost:8080/"
    },
    "id": "Jx5iHPBPN5Xm",
    "outputId": "512865f5-c254-4b2e-e1c2-1969d6daff84"
   },
   "outputs": [
    {
     "data": {
      "text/plain": [
       "500906750"
      ]
     },
     "execution_count": 15,
     "metadata": {},
     "output_type": "execute_result"
    }
   ],
   "source": [
    "np.dot(data[\"Amount\"],data[\"Age\"])"
   ]
  },
  {
   "cell_type": "code",
   "execution_count": 16,
   "id": "mDSXIscKWR5U",
   "metadata": {
    "colab": {
     "base_uri": "https://localhost:8080/"
    },
    "id": "mDSXIscKWR5U",
    "outputId": "2675a247-4409-4e26-f3d1-b2c4522060dc"
   },
   "outputs": [
    {
     "data": {
      "text/plain": [
       "52828.042685679735"
      ]
     },
     "execution_count": 16,
     "metadata": {},
     "output_type": "execute_result"
    }
   ],
   "source": [
    "np.linalg.norm(data[\"Amount\"])"
   ]
  },
  {
   "cell_type": "code",
   "execution_count": 17,
   "id": "qSDNlKquVhzy",
   "metadata": {
    "colab": {
     "base_uri": "https://localhost:8080/",
     "height": 273
    },
    "id": "qSDNlKquVhzy",
    "outputId": "fe14b85e-d490-46a0-d32e-a7af18373e59"
   },
   "outputs": [
    {
     "data": {
      "text/html": [
       "<div>\n",
       "<style scoped>\n",
       "    .dataframe tbody tr th:only-of-type {\n",
       "        vertical-align: middle;\n",
       "    }\n",
       "\n",
       "    .dataframe tbody tr th {\n",
       "        vertical-align: top;\n",
       "    }\n",
       "\n",
       "    .dataframe thead th {\n",
       "        text-align: right;\n",
       "    }\n",
       "</style>\n",
       "<table border=\"1\" class=\"dataframe\">\n",
       "  <thead>\n",
       "    <tr style=\"text-align: right;\">\n",
       "      <th></th>\n",
       "      <th>Transaction ID</th>\n",
       "      <th>Date</th>\n",
       "      <th>Time</th>\n",
       "      <th>Amount</th>\n",
       "      <th>Age</th>\n",
       "      <th>Fraud</th>\n",
       "      <th>Day of Week_Friday</th>\n",
       "      <th>Day of Week_Thursday</th>\n",
       "      <th>Day of Week_Tuesday</th>\n",
       "      <th>Day of Week_Wednesday</th>\n",
       "      <th>...</th>\n",
       "      <th>Bank_Barlcays</th>\n",
       "      <th>Bank_HSBC</th>\n",
       "      <th>Bank_Halifax</th>\n",
       "      <th>Bank_Lloyds</th>\n",
       "      <th>Bank_Metro</th>\n",
       "      <th>Bank_Monzo</th>\n",
       "      <th>Bank_RBS</th>\n",
       "      <th>Gender_F</th>\n",
       "      <th>Gender_M</th>\n",
       "      <th>target</th>\n",
       "    </tr>\n",
       "  </thead>\n",
       "  <tbody>\n",
       "    <tr>\n",
       "      <th>0</th>\n",
       "      <td>3577209</td>\n",
       "      <td>20201014</td>\n",
       "      <td>19</td>\n",
       "      <td>5</td>\n",
       "      <td>25</td>\n",
       "      <td>0</td>\n",
       "      <td>False</td>\n",
       "      <td>False</td>\n",
       "      <td>False</td>\n",
       "      <td>True</td>\n",
       "      <td>...</td>\n",
       "      <td>False</td>\n",
       "      <td>False</td>\n",
       "      <td>False</td>\n",
       "      <td>False</td>\n",
       "      <td>False</td>\n",
       "      <td>False</td>\n",
       "      <td>True</td>\n",
       "      <td>False</td>\n",
       "      <td>True</td>\n",
       "      <td>0</td>\n",
       "    </tr>\n",
       "    <tr>\n",
       "      <th>1</th>\n",
       "      <td>3039221</td>\n",
       "      <td>20201014</td>\n",
       "      <td>17</td>\n",
       "      <td>288</td>\n",
       "      <td>49</td>\n",
       "      <td>0</td>\n",
       "      <td>False</td>\n",
       "      <td>False</td>\n",
       "      <td>False</td>\n",
       "      <td>True</td>\n",
       "      <td>...</td>\n",
       "      <td>False</td>\n",
       "      <td>False</td>\n",
       "      <td>False</td>\n",
       "      <td>True</td>\n",
       "      <td>False</td>\n",
       "      <td>False</td>\n",
       "      <td>False</td>\n",
       "      <td>True</td>\n",
       "      <td>False</td>\n",
       "      <td>0</td>\n",
       "    </tr>\n",
       "    <tr>\n",
       "      <th>2</th>\n",
       "      <td>2694780</td>\n",
       "      <td>20201014</td>\n",
       "      <td>14</td>\n",
       "      <td>5</td>\n",
       "      <td>42</td>\n",
       "      <td>0</td>\n",
       "      <td>False</td>\n",
       "      <td>False</td>\n",
       "      <td>False</td>\n",
       "      <td>True</td>\n",
       "      <td>...</td>\n",
       "      <td>False</td>\n",
       "      <td>False</td>\n",
       "      <td>False</td>\n",
       "      <td>False</td>\n",
       "      <td>False</td>\n",
       "      <td>False</td>\n",
       "      <td>False</td>\n",
       "      <td>True</td>\n",
       "      <td>False</td>\n",
       "      <td>0</td>\n",
       "    </tr>\n",
       "    <tr>\n",
       "      <th>3</th>\n",
       "      <td>2640960</td>\n",
       "      <td>20201013</td>\n",
       "      <td>14</td>\n",
       "      <td>28</td>\n",
       "      <td>51</td>\n",
       "      <td>0</td>\n",
       "      <td>False</td>\n",
       "      <td>False</td>\n",
       "      <td>True</td>\n",
       "      <td>False</td>\n",
       "      <td>...</td>\n",
       "      <td>False</td>\n",
       "      <td>False</td>\n",
       "      <td>False</td>\n",
       "      <td>False</td>\n",
       "      <td>False</td>\n",
       "      <td>False</td>\n",
       "      <td>False</td>\n",
       "      <td>True</td>\n",
       "      <td>False</td>\n",
       "      <td>0</td>\n",
       "    </tr>\n",
       "    <tr>\n",
       "      <th>4</th>\n",
       "      <td>2771031</td>\n",
       "      <td>20201013</td>\n",
       "      <td>23</td>\n",
       "      <td>91</td>\n",
       "      <td>38</td>\n",
       "      <td>1</td>\n",
       "      <td>False</td>\n",
       "      <td>False</td>\n",
       "      <td>True</td>\n",
       "      <td>False</td>\n",
       "      <td>...</td>\n",
       "      <td>False</td>\n",
       "      <td>False</td>\n",
       "      <td>True</td>\n",
       "      <td>False</td>\n",
       "      <td>False</td>\n",
       "      <td>False</td>\n",
       "      <td>False</td>\n",
       "      <td>False</td>\n",
       "      <td>True</td>\n",
       "      <td>1</td>\n",
       "    </tr>\n",
       "  </tbody>\n",
       "</table>\n",
       "<p>5 rows × 54 columns</p>\n",
       "</div>"
      ],
      "text/plain": [
       "   Transaction ID      Date  Time  Amount  Age  Fraud  Day of Week_Friday  \\\n",
       "0         3577209  20201014    19       5   25      0               False   \n",
       "1         3039221  20201014    17     288   49      0               False   \n",
       "2         2694780  20201014    14       5   42      0               False   \n",
       "3         2640960  20201013    14      28   51      0               False   \n",
       "4         2771031  20201013    23      91   38      1               False   \n",
       "\n",
       "   Day of Week_Thursday  Day of Week_Tuesday  Day of Week_Wednesday  ...  \\\n",
       "0                 False                False                   True  ...   \n",
       "1                 False                False                   True  ...   \n",
       "2                 False                False                   True  ...   \n",
       "3                 False                 True                  False  ...   \n",
       "4                 False                 True                  False  ...   \n",
       "\n",
       "   Bank_Barlcays  Bank_HSBC  Bank_Halifax  Bank_Lloyds  Bank_Metro  \\\n",
       "0          False      False         False        False       False   \n",
       "1          False      False         False         True       False   \n",
       "2          False      False         False        False       False   \n",
       "3          False      False         False        False       False   \n",
       "4          False      False          True        False       False   \n",
       "\n",
       "   Bank_Monzo  Bank_RBS  Gender_F  Gender_M  target  \n",
       "0       False      True     False      True       0  \n",
       "1       False     False      True     False       0  \n",
       "2       False     False      True     False       0  \n",
       "3       False     False      True     False       0  \n",
       "4       False     False     False      True       1  \n",
       "\n",
       "[5 rows x 54 columns]"
      ]
     },
     "execution_count": 17,
     "metadata": {},
     "output_type": "execute_result"
    }
   ],
   "source": [
    "data.head()"
   ]
  },
  {
   "cell_type": "code",
   "execution_count": 18,
   "id": "ZQ_6LSCCViDP",
   "metadata": {
    "colab": {
     "base_uri": "https://localhost:8080/",
     "height": 210
    },
    "id": "ZQ_6LSCCViDP",
    "outputId": "8d836bd3-5703-4df5-a004-136857b8205c"
   },
   "outputs": [
    {
     "data": {
      "text/html": [
       "<div>\n",
       "<style scoped>\n",
       "    .dataframe tbody tr th:only-of-type {\n",
       "        vertical-align: middle;\n",
       "    }\n",
       "\n",
       "    .dataframe tbody tr th {\n",
       "        vertical-align: top;\n",
       "    }\n",
       "\n",
       "    .dataframe thead th {\n",
       "        text-align: right;\n",
       "    }\n",
       "</style>\n",
       "<table border=\"1\" class=\"dataframe\">\n",
       "  <thead>\n",
       "    <tr style=\"text-align: right;\">\n",
       "      <th></th>\n",
       "      <th>Transaction ID</th>\n",
       "      <th>Date</th>\n",
       "      <th>Time</th>\n",
       "      <th>Amount</th>\n",
       "      <th>Age</th>\n",
       "      <th>Fraud</th>\n",
       "      <th>Day of Week_Friday</th>\n",
       "      <th>Day of Week_Thursday</th>\n",
       "      <th>Day of Week_Tuesday</th>\n",
       "      <th>Day of Week_Wednesday</th>\n",
       "      <th>...</th>\n",
       "      <th>Bank_Barclays</th>\n",
       "      <th>Bank_Barlcays</th>\n",
       "      <th>Bank_HSBC</th>\n",
       "      <th>Bank_Halifax</th>\n",
       "      <th>Bank_Lloyds</th>\n",
       "      <th>Bank_Metro</th>\n",
       "      <th>Bank_Monzo</th>\n",
       "      <th>Bank_RBS</th>\n",
       "      <th>Gender_F</th>\n",
       "      <th>Gender_M</th>\n",
       "    </tr>\n",
       "    <tr>\n",
       "      <th>target</th>\n",
       "      <th></th>\n",
       "      <th></th>\n",
       "      <th></th>\n",
       "      <th></th>\n",
       "      <th></th>\n",
       "      <th></th>\n",
       "      <th></th>\n",
       "      <th></th>\n",
       "      <th></th>\n",
       "      <th></th>\n",
       "      <th></th>\n",
       "      <th></th>\n",
       "      <th></th>\n",
       "      <th></th>\n",
       "      <th></th>\n",
       "      <th></th>\n",
       "      <th></th>\n",
       "      <th></th>\n",
       "      <th></th>\n",
       "      <th></th>\n",
       "      <th></th>\n",
       "    </tr>\n",
       "  </thead>\n",
       "  <tbody>\n",
       "    <tr>\n",
       "      <th>0</th>\n",
       "      <td>3577209</td>\n",
       "      <td>20201014</td>\n",
       "      <td>19</td>\n",
       "      <td>5</td>\n",
       "      <td>25</td>\n",
       "      <td>0</td>\n",
       "      <td>False</td>\n",
       "      <td>False</td>\n",
       "      <td>False</td>\n",
       "      <td>True</td>\n",
       "      <td>...</td>\n",
       "      <td>False</td>\n",
       "      <td>False</td>\n",
       "      <td>False</td>\n",
       "      <td>False</td>\n",
       "      <td>False</td>\n",
       "      <td>False</td>\n",
       "      <td>False</td>\n",
       "      <td>True</td>\n",
       "      <td>False</td>\n",
       "      <td>True</td>\n",
       "    </tr>\n",
       "    <tr>\n",
       "      <th>1</th>\n",
       "      <td>2771031</td>\n",
       "      <td>20201013</td>\n",
       "      <td>23</td>\n",
       "      <td>91</td>\n",
       "      <td>38</td>\n",
       "      <td>1</td>\n",
       "      <td>False</td>\n",
       "      <td>False</td>\n",
       "      <td>True</td>\n",
       "      <td>False</td>\n",
       "      <td>...</td>\n",
       "      <td>False</td>\n",
       "      <td>False</td>\n",
       "      <td>False</td>\n",
       "      <td>True</td>\n",
       "      <td>False</td>\n",
       "      <td>False</td>\n",
       "      <td>False</td>\n",
       "      <td>False</td>\n",
       "      <td>False</td>\n",
       "      <td>True</td>\n",
       "    </tr>\n",
       "  </tbody>\n",
       "</table>\n",
       "<p>2 rows × 53 columns</p>\n",
       "</div>"
      ],
      "text/plain": [
       "        Transaction ID      Date  Time  Amount  Age  Fraud  \\\n",
       "target                                                       \n",
       "0              3577209  20201014    19       5   25      0   \n",
       "1              2771031  20201013    23      91   38      1   \n",
       "\n",
       "        Day of Week_Friday  Day of Week_Thursday  Day of Week_Tuesday  \\\n",
       "target                                                                  \n",
       "0                    False                 False                False   \n",
       "1                    False                 False                 True   \n",
       "\n",
       "        Day of Week_Wednesday  ...  Bank_Barclays  Bank_Barlcays  Bank_HSBC  \\\n",
       "target                         ...                                            \n",
       "0                        True  ...          False          False      False   \n",
       "1                       False  ...          False          False      False   \n",
       "\n",
       "        Bank_Halifax  Bank_Lloyds  Bank_Metro  Bank_Monzo  Bank_RBS  Gender_F  \\\n",
       "target                                                                          \n",
       "0              False        False       False       False      True     False   \n",
       "1               True        False       False       False     False     False   \n",
       "\n",
       "        Gender_M  \n",
       "target            \n",
       "0           True  \n",
       "1           True  \n",
       "\n",
       "[2 rows x 53 columns]"
      ]
     },
     "execution_count": 18,
     "metadata": {},
     "output_type": "execute_result"
    }
   ],
   "source": [
    "grouped=data.groupby(\"target\")\n",
    "grouped.first()"
   ]
  },
  {
   "cell_type": "code",
   "execution_count": 19,
   "id": "8c9bc6c6",
   "metadata": {
    "id": "8c9bc6c6"
   },
   "outputs": [],
   "source": [
    "class_A_data = data[data['target'] == 0]\n",
    "class_B_data = data[data['target'] == 1]\n"
   ]
  },
  {
   "cell_type": "code",
   "execution_count": 20,
   "id": "d3af43b0",
   "metadata": {
    "id": "d3af43b0"
   },
   "outputs": [],
   "source": [
    "import numpy as np\n",
    "\n",
    "centroid_A = np.mean(class_A_data, axis=0)\n",
    "centroid_B = np.mean(class_B_data, axis=0)\n"
   ]
  },
  {
   "cell_type": "markdown",
   "id": "IesSuCK7aJRW",
   "metadata": {
    "id": "IesSuCK7aJRW"
   },
   "source": []
  },
  {
   "cell_type": "code",
   "execution_count": 21,
   "id": "70274b36",
   "metadata": {
    "colab": {
     "base_uri": "https://localhost:8080/"
    },
    "id": "70274b36",
    "outputId": "a62b0a36-18a2-422d-e46f-9c3ec98ebe59"
   },
   "outputs": [
    {
     "data": {
      "text/plain": [
       "Transaction ID                           3.116641e+06\n",
       "Date                                     2.020101e+07\n",
       "Time                                     1.498613e+01\n",
       "Amount                                   1.163481e+02\n",
       "Age                                      4.455304e+01\n",
       "Fraud                                    0.000000e+00\n",
       "Day of Week_Friday                       1.400787e-04\n",
       "Day of Week_Thursday                     1.077528e-04\n",
       "Day of Week_Tuesday                      4.963526e-01\n",
       "Day of Week_Wednesday                    5.033996e-01\n",
       "Type of Card_MasterCard                  4.667098e-01\n",
       "Type of Card_Visa                        5.332902e-01\n",
       "Entry Mode_CVC                           3.262755e-01\n",
       "Entry Mode_PIN                           5.153817e-01\n",
       "Entry Mode_Tap                           1.583428e-01\n",
       "Type of Transaction_ATM                  3.405097e-01\n",
       "Type of Transaction_Online               3.262755e-01\n",
       "Type of Transaction_POS                  3.332148e-01\n",
       "Merchant Group_Children                  1.012769e-01\n",
       "Merchant Group_Electronics               9.408976e-02\n",
       "Merchant Group_Entertainment             9.966058e-02\n",
       "Merchant Group_Fashion                   9.765638e-02\n",
       "Merchant Group_Food                      9.987608e-02\n",
       "Merchant Group_Gaming                    1.015894e-01\n",
       "Merchant Group_Products                  9.995151e-02\n",
       "Merchant Group_Restaurant                1.027746e-01\n",
       "Merchant Group_Services                  1.015463e-01\n",
       "Merchant Group_Subscription              1.014708e-01\n",
       "Country of Transaction_China             6.079414e-02\n",
       "Country of Transaction_India             5.944723e-02\n",
       "Country of Transaction_Russia            6.223803e-02\n",
       "Country of Transaction_USA               6.183934e-02\n",
       "Country of Transaction_United Kingdom    7.556813e-01\n",
       "Shipping Address_China                   8.569581e-02\n",
       "Shipping Address_India                   8.388557e-02\n",
       "Shipping Address_Russia                  8.692420e-02\n",
       "Shipping Address_USA                     8.852971e-02\n",
       "Shipping Address_United Kingdom          6.549108e-01\n",
       "Country of Residence_China               4.845644e-02\n",
       "Country of Residence_India               4.709876e-02\n",
       "Country of Residence_Russia              4.942622e-02\n",
       "Country of Residence_USA                 4.913528e-02\n",
       "Country of Residence_United Kingdom      8.058833e-01\n",
       "Bank_Barclays                            2.978503e-01\n",
       "Bank_Barlcays                            1.002424e-01\n",
       "Bank_HSBC                                1.002532e-01\n",
       "Bank_Halifax                             1.002963e-01\n",
       "Bank_Lloyds                              9.990841e-02\n",
       "Bank_Metro                               9.920802e-02\n",
       "Bank_Monzo                               1.010183e-01\n",
       "Bank_RBS                                 1.012230e-01\n",
       "Gender_F                                 4.978396e-01\n",
       "Gender_M                                 5.021173e-01\n",
       "target                                   0.000000e+00\n",
       "dtype: float64"
      ]
     },
     "execution_count": 21,
     "metadata": {},
     "output_type": "execute_result"
    }
   ],
   "source": [
    "centroid_A"
   ]
  },
  {
   "cell_type": "code",
   "execution_count": 22,
   "id": "bec62feb",
   "metadata": {
    "colab": {
     "base_uri": "https://localhost:8080/"
    },
    "id": "bec62feb",
    "outputId": "d5e14a6e-9794-4ed1-a3d7-9bda28a0873e"
   },
   "outputs": [
    {
     "data": {
      "text/plain": [
       "Transaction ID                           3.123565e+06\n",
       "Date                                     2.020101e+07\n",
       "Time                                     9.103405e+00\n",
       "Amount                                   6.386310e+01\n",
       "Age                                      4.444225e+01\n",
       "Fraud                                    1.000000e+00\n",
       "Day of Week_Friday                       1.389854e-04\n",
       "Day of Week_Thursday                     2.779708e-04\n",
       "Day of Week_Tuesday                      5.188325e-01\n",
       "Day of Week_Wednesday                    4.807505e-01\n",
       "Type of Card_MasterCard                  3.995830e-01\n",
       "Type of Card_Visa                        6.004170e-01\n",
       "Entry Mode_CVC                           4.448923e-01\n",
       "Entry Mode_PIN                           2.982627e-01\n",
       "Entry Mode_Tap                           2.568450e-01\n",
       "Type of Transaction_ATM                  2.325226e-01\n",
       "Type of Transaction_Online               4.448923e-01\n",
       "Type of Transaction_POS                  3.225851e-01\n",
       "Merchant Group_Children                  1.779013e-01\n",
       "Merchant Group_Electronics               1.367616e-01\n",
       "Merchant Group_Entertainment             8.200139e-02\n",
       "Merchant Group_Fashion                   1.284225e-01\n",
       "Merchant Group_Food                      8.033356e-02\n",
       "Merchant Group_Gaming                    8.102849e-02\n",
       "Merchant Group_Products                  7.824878e-02\n",
       "Merchant Group_Restaurant                7.505212e-02\n",
       "Merchant Group_Services                  8.241835e-02\n",
       "Merchant Group_Subscription              7.783183e-02\n",
       "Country of Transaction_China             2.098680e-01\n",
       "Country of Transaction_India             2.191800e-01\n",
       "Country of Transaction_Russia            2.058374e-01\n",
       "Country of Transaction_USA               2.166782e-01\n",
       "Country of Transaction_United Kingdom    1.484364e-01\n",
       "Shipping Address_China                   2.425295e-01\n",
       "Shipping Address_India                   2.454482e-01\n",
       "Shipping Address_Russia                  2.407227e-01\n",
       "Shipping Address_USA                     2.537874e-01\n",
       "Shipping Address_United Kingdom          1.751216e-02\n",
       "Country of Residence_China               4.447533e-03\n",
       "Country of Residence_India               4.586518e-03\n",
       "Country of Residence_Russia              4.308548e-03\n",
       "Country of Residence_USA                 4.169562e-03\n",
       "Country of Residence_United Kingdom      9.824878e-01\n",
       "Bank_Barclays                            3.188325e-01\n",
       "Bank_Barlcays                            9.589993e-02\n",
       "Bank_HSBC                                9.075747e-02\n",
       "Bank_Halifax                             9.451008e-02\n",
       "Bank_Lloyds                              9.631689e-02\n",
       "Bank_Metro                               1.118833e-01\n",
       "Bank_Monzo                               1.011814e-01\n",
       "Bank_RBS                                 9.061849e-02\n",
       "Gender_F                                 4.056984e-01\n",
       "Gender_M                                 5.943016e-01\n",
       "target                                   1.000000e+00\n",
       "dtype: float64"
      ]
     },
     "execution_count": 22,
     "metadata": {},
     "output_type": "execute_result"
    }
   ],
   "source": [
    "centroid_B"
   ]
  },
  {
   "cell_type": "code",
   "execution_count": 23,
   "id": "0e4f60f6",
   "metadata": {
    "id": "0e4f60f6"
   },
   "outputs": [],
   "source": [
    "centroid_A = np.std(class_A_data,axis=0)\n",
    "centroid_B = np.std(class_B_data,axis=0)"
   ]
  },
  {
   "cell_type": "code",
   "execution_count": 24,
   "id": "ddea2226",
   "metadata": {
    "colab": {
     "base_uri": "https://localhost:8080/"
    },
    "id": "ddea2226",
    "outputId": "9c0a687f-57c7-4076-b2f8-7dacb7bf603b"
   },
   "outputs": [
    {
     "data": {
      "text/plain": [
       "415.49467004714865"
      ]
     },
     "execution_count": 24,
     "metadata": {},
     "output_type": "execute_result"
    }
   ],
   "source": [
    "x = np.linalg.norm(centroid_A - centroid_B)\n",
    "x"
   ]
  },
  {
   "cell_type": "code",
   "execution_count": 40,
   "id": "b80c5748",
   "metadata": {
    "colab": {
     "base_uri": "https://localhost:8080/",
     "height": 472
    },
    "id": "b80c5748",
    "outputId": "1cb32538-0c48-465c-c1b8-c479a45521c5"
   },
   "outputs": [
    {
     "data": {
      "image/png": "[encoded data removed]",
      "text/plain": [
       "<Figure size 640x480 with 1 Axes>"
      ]
     },
     "metadata": {},
     "output_type": "display_data"
    }
   ],
   "source": [
    "\n",
    "import numpy as np\n",
    "import matplotlib.pyplot as plt\n",
    "\n",
    "selected_feature = data['Age']\n",
    "num_bins =10\n",
    "hist, bins = np.histogram(selected_feature, bins=num_bins)\n",
    "\n",
    "plt.hist(selected_feature, bins=num_bins,  color='r', edgecolor='black')\n",
    "plt.xlabel('Value')\n",
    "plt.ylabel('Frequency')\n",
    "plt.title('Histogram of Selected Feature')\n",
    "plt.show()\n"
   ]
  },
  {
   "cell_type": "code",
   "execution_count": 41,
   "id": "tb2JjJv4bNs4",
   "metadata": {
    "colab": {
     "base_uri": "https://localhost:8080/",
     "height": 472
    },
    "id": "tb2JjJv4bNs4",
    "outputId": "1cb071b8-0ffa-4d42-b46b-9012c419befc"
   },
   "outputs": [
    {
     "data": {
      "image/png": "[encoded data removed]",
      "text/plain": [
       "<Figure size 640x480 with 1 Axes>"
      ]
     },
     "metadata": {},
     "output_type": "display_data"
    }
   ],
   "source": [
    "import numpy as np\n",
    "import matplotlib.pyplot as plt\n",
    "vector1 = data.iloc[0, :]\n",
    "vector2 = data.iloc[1, :]\n",
    "distances = []\n",
    "r_values = list(range(1, 11))\n",
    "for r in r_values:\n",
    "    distance = np.power(np.sum(np.abs(vector1 ^ vector2) ** r), 1/r)\n",
    "    distances.append(distance)\n",
    "\n",
    "plt.plot(r_values, distances, marker='s', linestyle='--')\n",
    "plt.xlabel('r')\n",
    "plt.ylabel('Minkowski Distance')\n",
    "plt.title('Minkowski Distance vs. r')\n",
    "plt.grid(True)\n",
    "plt.show()"
   ]
  },
  {
   "cell_type": "code",
   "execution_count": 34,
   "id": "3ee54f34",
   "metadata": {
    "colab": {
     "base_uri": "https://localhost:8080/",
     "height": 74
    },
    "id": "3ee54f34",
    "outputId": "7fe65273-b651-4357-b1c7-11e4752a6605"
   },
   "outputs": [
    {
     "data": {
      "text/html": [
       "<style>#sk-container-id-2 {color: black;}#sk-container-id-2 pre{padding: 0;}#sk-container-id-2 div.sk-toggleable {background-color: white;}#sk-container-id-2 label.sk-toggleable__label {cursor: pointer;display: block;width: 100%;margin-bottom: 0;padding: 0.3em;box-sizing: border-box;text-align: center;}#sk-container-id-2 label.sk-toggleable__label-arrow:before {content: \"▸\";float: left;margin-right: 0.25em;color: #696969;}#sk-container-id-2 label.sk-toggleable__label-arrow:hover:before {color: black;}#sk-container-id-2 div.sk-estimator:hover label.sk-toggleable__label-arrow:before {color: black;}#sk-container-id-2 div.sk-toggleable__content {max-height: 0;max-width: 0;overflow: hidden;text-align: left;background-color: #f0f8ff;}#sk-container-id-2 div.sk-toggleable__content pre {margin: 0.2em;color: black;border-radius: 0.25em;background-color: #f0f8ff;}#sk-container-id-2 input.sk-toggleable__control:checked~div.sk-toggleable__content {max-height: 200px;max-width: 100%;overflow: auto;}#sk-container-id-2 input.sk-toggleable__control:checked~label.sk-toggleable__label-arrow:before {content: \"▾\";}#sk-container-id-2 div.sk-estimator input.sk-toggleable__control:checked~label.sk-toggleable__label {background-color: #d4ebff;}#sk-container-id-2 div.sk-label input.sk-toggleable__control:checked~label.sk-toggleable__label {background-color: #d4ebff;}#sk-container-id-2 input.sk-hidden--visually {border: 0;clip: rect(1px 1px 1px 1px);clip: rect(1px, 1px, 1px, 1px);height: 1px;margin: -1px;overflow: hidden;padding: 0;position: absolute;width: 1px;}#sk-container-id-2 div.sk-estimator {font-family: monospace;background-color: #f0f8ff;border: 1px dotted black;border-radius: 0.25em;box-sizing: border-box;margin-bottom: 0.5em;}#sk-container-id-2 div.sk-estimator:hover {background-color: #d4ebff;}#sk-container-id-2 div.sk-parallel-item::after {content: \"\";width: 100%;border-bottom: 1px solid gray;flex-grow: 1;}#sk-container-id-2 div.sk-label:hover label.sk-toggleable__label {background-color: #d4ebff;}#sk-container-id-2 div.sk-serial::before {content: \"\";position: absolute;border-left: 1px solid gray;box-sizing: border-box;top: 0;bottom: 0;left: 50%;z-index: 0;}#sk-container-id-2 div.sk-serial {display: flex;flex-direction: column;align-items: center;background-color: white;padding-right: 0.2em;padding-left: 0.2em;position: relative;}#sk-container-id-2 div.sk-item {position: relative;z-index: 1;}#sk-container-id-2 div.sk-parallel {display: flex;align-items: stretch;justify-content: center;background-color: white;position: relative;}#sk-container-id-2 div.sk-item::before, #sk-container-id-2 div.sk-parallel-item::before {content: \"\";position: absolute;border-left: 1px solid gray;box-sizing: border-box;top: 0;bottom: 0;left: 50%;z-index: -1;}#sk-container-id-2 div.sk-parallel-item {display: flex;flex-direction: column;z-index: 1;position: relative;background-color: white;}#sk-container-id-2 div.sk-parallel-item:first-child::after {align-self: flex-end;width: 50%;}#sk-container-id-2 div.sk-parallel-item:last-child::after {align-self: flex-start;width: 50%;}#sk-container-id-2 div.sk-parallel-item:only-child::after {width: 0;}#sk-container-id-2 div.sk-dashed-wrapped {border: 1px dashed gray;margin: 0 0.4em 0.5em 0.4em;box-sizing: border-box;padding-bottom: 0.4em;background-color: white;}#sk-container-id-2 div.sk-label label {font-family: monospace;font-weight: bold;display: inline-block;line-height: 1.2em;}#sk-container-id-2 div.sk-label-container {text-align: center;}#sk-container-id-2 div.sk-container {/* jupyter's `normalize.less` sets `[hidden] { display: none; }` but bootstrap.min.css set `[hidden] { display: none !important; }` so we also need the `!important` here to be able to override the default hidden behavior on the sphinx rendered scikit-learn.org. See: https://github.com/scikit-learn/scikit-learn/issues/21755 */display: inline-block !important;position: relative;}#sk-container-id-2 div.sk-text-repr-fallback {display: none;}</style><div id=\"sk-container-id-2\" class=\"sk-top-container\"><div class=\"sk-text-repr-fallback\"><pre>KNeighborsClassifier(n_neighbors=1)</pre><b>In a Jupyter environment, please rerun this cell to show the HTML representation or trust the notebook. <br />On GitHub, the HTML representation is unable to render, please try loading this page with nbviewer.org.</b></div><div class=\"sk-container\" hidden><div class=\"sk-item\"><div class=\"sk-estimator sk-toggleable\"><input class=\"sk-toggleable__control sk-hidden--visually\" id=\"sk-estimator-id-2\" type=\"checkbox\" checked><label for=\"sk-estimator-id-2\" class=\"sk-toggleable__label sk-toggleable__label-arrow\">KNeighborsClassifier</label><div class=\"sk-toggleable__content\"><pre>KNeighborsClassifier(n_neighbors=1)</pre></div></div></div></div></div>"
      ],
      "text/plain": [
       "KNeighborsClassifier(n_neighbors=1)"
      ]
     },
     "execution_count": 34,
     "metadata": {},
     "output_type": "execute_result"
    }
   ],
   "source": [
    "import numpy as np\n",
    "from sklearn.model_selection import train_test_split\n",
    "x = data.drop(\"target\",axis=1)\n",
    "y = data[\"target\"]\n",
    "x_train, x_test, y_train, y_test = train_test_split(x, y, test_size=0.25)\n",
    "\n",
    "from sklearn.neighbors import KNeighborsClassifier\n",
    "knn=KNeighborsClassifier(n_neighbors=1)\n",
    "knn.fit(x_train,y_train)"
   ]
  },
  {
   "cell_type": "code",
   "execution_count": 35,
   "id": "57dae92b",
   "metadata": {
    "colab": {
     "base_uri": "https://localhost:8080/"
    },
    "id": "57dae92b",
    "outputId": "d0fe95ab-5394-479e-b9ed-314677fbddcc"
   },
   "outputs": [
    {
     "name": "stderr",
     "output_type": "stream",
     "text": [
      "C:\\Users\\krp95\\AppData\\Local\\Programs\\Python\\Python311\\Lib\\site-packages\\sklearn\\base.py:464: UserWarning: X does not have valid feature names, but KNeighborsClassifier was fitted with feature names\n",
      "  warnings.warn(\n"
     ]
    },
    {
     "data": {
      "text/plain": [
       "array([0, 1, 0, ..., 0, 0, 0], dtype=int64)"
      ]
     },
     "execution_count": 35,
     "metadata": {},
     "output_type": "execute_result"
    }
   ],
   "source": [
    "y_preds=knn.predict(x_test.values)\n",
    "y_preds"
   ]
  },
  {
   "cell_type": "code",
   "execution_count": 36,
   "id": "6d3fe2e0",
   "metadata": {
    "id": "6d3fe2e0"
   },
   "outputs": [],
   "source": [
    "from sklearn.metrics import confusion_matrix,classification_report\n",
    "\n",
    "matrix=confusion_matrix(y_test,y_preds)\n",
    "report = classification_report(y_test,y_preds)\n"
   ]
  },
  {
   "cell_type": "code",
   "execution_count": 37,
   "id": "pykfMcC1OjAm",
   "metadata": {
    "colab": {
     "base_uri": "https://localhost:8080/"
    },
    "id": "pykfMcC1OjAm",
    "outputId": "b09eae87-7e13-4045-a628-1dc68867dc36"
   },
   "outputs": [
    {
     "name": "stdout",
     "output_type": "stream",
     "text": [
      "[[21592  1561]\n",
      " [ 1678   169]]\n"
     ]
    }
   ],
   "source": [
    "print(matrix)"
   ]
  },
  {
   "cell_type": "code",
   "execution_count": 38,
   "id": "J4ND6iWYOu-5",
   "metadata": {
    "colab": {
     "base_uri": "https://localhost:8080/"
    },
    "id": "J4ND6iWYOu-5",
    "outputId": "ff483c88-446e-445f-fb03-b3807a6677b8"
   },
   "outputs": [
    {
     "name": "stdout",
     "output_type": "stream",
     "text": [
      "              precision    recall  f1-score   support\n",
      "\n",
      "           0       0.93      0.93      0.93     23153\n",
      "           1       0.10      0.09      0.09      1847\n",
      "\n",
      "    accuracy                           0.87     25000\n",
      "   macro avg       0.51      0.51      0.51     25000\n",
      "weighted avg       0.87      0.87      0.87     25000\n",
      "\n"
     ]
    }
   ],
   "source": [
    "print(report)"
   ]
  },
  {
   "cell_type": "code",
   "execution_count": null,
   "id": "5ec0098b-abdd-401d-a1b2-5727112c8675",
   "metadata": {},
   "outputs": [],
   "source": []
  }
 ],
 "metadata": {
  "colab": {
   "provenance": []
  },
  "kernelspec": {
   "display_name": "Python 3 (ipykernel)",
   "language": "python",
   "name": "python3"
  },
  "language_info": {
   "codemirror_mode": {
    "name": "ipython",
    "version": 3
   },
   "file_extension": ".py",
   "mimetype": "text/x-python",
   "name": "python",
   "nbconvert_exporter": "python",
   "pygments_lexer": "ipython3",
   "version": "3.11.1"
  }
 },
 "nbformat": 4,
 "nbformat_minor": 5
}
